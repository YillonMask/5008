{
 "cells": [
  {
   "cell_type": "markdown",
   "id": "ca54377f",
   "metadata": {},
   "source": [
    "<div class=\"alert alert-block alert-info\">\n",
    "    <b><p style=\"font-size: xx-large\"><font color=\"red\">Print Pascal Triangle</font></p></b></div>"
   ]
  },
  {
   "cell_type": "code",
   "execution_count": 4,
   "id": "f9970b3a",
   "metadata": {},
   "outputs": [
    {
     "name": "stdout",
     "output_type": "stream",
     "text": [
      "Overwriting print_pascal.c\n"
     ]
    }
   ],
   "source": [
    "%%file print_pascal.c\n",
    "// Compile with: gcc -Wall print_pascal.c\n",
    "// Run with: ./a.out\n",
    "\n",
    "#include <stdio.h>\n",
    "\n",
    "// This is a simple implementation of the Pascal Triangle\n",
    "// that you would find quickly using a Google search.\n",
    "// This particular version was modified from:\n",
    "// https://www.programiz.com/c-programming/examples/pyramid-pattern\n",
    "//\n",
    "// We are providing it to you so that you can use it to\n",
    "// help you determine what the expected results of your\n",
    "// dynamic programming solutions should be\n",
    "int main() {\n",
    "   long long coef = 1;\n",
    "   int  i, j;\n",
    "   for (i = 0; i < 10; i++) {\n",
    "      for (j = 0; j <= i; j++) {\n",
    "         if (j == 0 || i == 0)\n",
    "            coef = 1;\n",
    "         else\n",
    "            coef = coef * (i - j + 1) / j;\n",
    "         printf(\"%lld \", coef);\n",
    "      }\n",
    "      printf(\"\\n\");\n",
    "   }\n",
    "   return 0;\n",
    "}"
   ]
  },
  {
   "cell_type": "markdown",
   "id": "20c59e5b",
   "metadata": {},
   "source": [
    "-----"
   ]
  },
  {
   "cell_type": "code",
   "execution_count": 5,
   "id": "45c45dce",
   "metadata": {},
   "outputs": [],
   "source": [
    "%%bash \n",
    "gcc print_pascal.c -o print_pascal"
   ]
  },
  {
   "cell_type": "code",
   "execution_count": 6,
   "id": "30406339",
   "metadata": {},
   "outputs": [
    {
     "name": "stdout",
     "output_type": "stream",
     "text": [
      "1 \n",
      "1 1 \n",
      "1 2 1 \n",
      "1 3 3 1 \n",
      "1 4 6 4 1 \n",
      "1 5 10 10 5 1 \n",
      "1 6 15 20 15 6 1 \n",
      "1 7 21 35 35 21 7 1 \n",
      "1 8 28 56 70 56 28 8 1 \n",
      "1 9 36 84 126 126 84 36 9 1 \n"
     ]
    }
   ],
   "source": [
    "%%bash\n",
    "./print_pascal"
   ]
  },
  {
   "cell_type": "markdown",
   "id": "d4226b3d",
   "metadata": {},
   "source": [
    "<div class=\"alert alert-block alert-info\">\n",
    "    <b><p style=\"font-size: xx-large\"><font color=\"red\">Pascal Code Snippet</font></p></b></div>"
   ]
  },
  {
   "cell_type": "code",
   "execution_count": null,
   "id": "ee4289ef",
   "metadata": {},
   "outputs": [],
   "source": [
    "// Compile with: gcc -Wall pascal.c -o pascal\n",
    "// Run with: ./pascal 6\n",
    "#include <stdio.h>\n",
    "#include <stdlib.h>\n",
    "\n",
    "#define LARGEST_TRIANGLE 32\n",
    "\n",
    "// calculate and return the i-th row of Pascal's Triangle\n",
    "// rowIndex = the index of the row that should be calculated\n",
    "// returnSize = the size of the row that was calculated\n",
    "// returns a pointer to an array of size `returnSize`,\n",
    "//    assume that the caller calls free on the returned array\n",
    "//\n",
    "// coincidentally, this problem is the same as one of the problems\n",
    "// on LeetCode: https://leetcode.com/problems/pascals-triangle-ii/\n",
    "        \n",
    "int* getRow(int rowIndex, int* returnSize){\n",
    "   // TODO: Implement me!!\n",
    "\n",
    "   return NULL;\n",
    "}\n",
    "\n",
    "\n",
    "int main(int argc, char* argv[]) {\n",
    "   // Make sure that there is one argument\n",
    "   if (argc != 2) {\n",
    "      printf(\"One argument expected: ./pascal 42\\n\");\n",
    "      return 1;\n",
    "   }\n",
    "\n",
    "   // Convert the argument of the program into an integer\n",
    "   // and make sure that it is between 0 and LARGEST_TRIANGLE - 1\n",
    "   const int row = atoi(argv[1]);\n",
    "   if (row < 0 || row > LARGEST_TRIANGLE - 1) {\n",
    "      printf(\"row must between 0 and %d (inclusive)\\n\", LARGEST_TRIANGLE - 1);\n",
    "      return 1;\n",
    "   }\n",
    "\n",
    "   int size = 0;\n",
    "   int* row_values = getRow(row, &size);\n",
    "\n",
    "   printf(\"Row %d of Pascal's Triangle\\n\", row);\n",
    "   for(int i = 0 ; i < size ; i++) {\n",
    "      printf(\"%d \", row_values[i]);\n",
    "   }\n",
    "   printf(\"\\n\");\n",
    "\n",
    "   // free the memory that was returned from function\n",
    "   free(row_values);\n",
    "   return 0;\n",
    "}"
   ]
  },
  {
   "cell_type": "code",
   "execution_count": null,
   "id": "1e792450",
   "metadata": {},
   "outputs": [],
   "source": []
  }
 ],
 "metadata": {
  "kernelspec": {
   "display_name": "Python 3 (ipykernel)",
   "language": "python",
   "name": "python3"
  },
  "language_info": {
   "codemirror_mode": {
    "name": "ipython",
    "version": 3
   },
   "file_extension": ".py",
   "mimetype": "text/x-python",
   "name": "python",
   "nbconvert_exporter": "python",
   "pygments_lexer": "ipython3",
   "version": "3.11.5"
  }
 },
 "nbformat": 4,
 "nbformat_minor": 5
}
